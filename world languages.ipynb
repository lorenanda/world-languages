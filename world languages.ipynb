{
 "cells": [
  {
   "cell_type": "markdown",
   "metadata": {},
   "source": [
    "## Exploring the endangered languages of the world\n",
    "\n",
    "#### This project consists of two datasets from kaggle (https://www.kaggle.com/rtatman/world-language-family-map) with information about social and geographical features of thousands of languages. My main interest is to analyze and visualize data about languages that are classified as endangered. "
   ]
  },
  {
   "cell_type": "markdown",
   "metadata": {},
   "source": [
    "### Setup and definitions"
   ]
  },
  {
   "cell_type": "code",
   "execution_count": 1,
   "metadata": {},
   "outputs": [],
   "source": [
    "import pandas as pd\n",
    "import numpy as np"
   ]
  },
  {
   "cell_type": "code",
   "execution_count": 52,
   "metadata": {},
   "outputs": [
    {
     "data": {
      "text/html": [
       "<div>\n",
       "<style scoped>\n",
       "    .dataframe tbody tr th:only-of-type {\n",
       "        vertical-align: middle;\n",
       "    }\n",
       "\n",
       "    .dataframe tbody tr th {\n",
       "        vertical-align: top;\n",
       "    }\n",
       "\n",
       "    .dataframe thead th {\n",
       "        text-align: right;\n",
       "    }\n",
       "</style>\n",
       "<table border=\"1\" class=\"dataframe\">\n",
       "  <thead>\n",
       "    <tr style=\"text-align: right;\">\n",
       "      <th></th>\n",
       "      <th>bookkeeping</th>\n",
       "      <th>child_dialect_count</th>\n",
       "      <th>child_family_count</th>\n",
       "      <th>child_language_count</th>\n",
       "      <th>description</th>\n",
       "      <th>family_pk</th>\n",
       "      <th>father_pk</th>\n",
       "      <th>hid</th>\n",
       "      <th>id</th>\n",
       "      <th>jsondata</th>\n",
       "      <th>latitude</th>\n",
       "      <th>level</th>\n",
       "      <th>longitude</th>\n",
       "      <th>markup_description</th>\n",
       "      <th>name</th>\n",
       "      <th>newick</th>\n",
       "      <th>pk</th>\n",
       "      <th>status</th>\n",
       "    </tr>\n",
       "  </thead>\n",
       "  <tbody>\n",
       "    <tr>\n",
       "      <th>0</th>\n",
       "      <td>False</td>\n",
       "      <td>0</td>\n",
       "      <td>0</td>\n",
       "      <td>0</td>\n",
       "      <td>NaN</td>\n",
       "      <td>21.0</td>\n",
       "      <td>20815.0</td>\n",
       "      <td>NaN</td>\n",
       "      <td>aala1237</td>\n",
       "      <td>{}</td>\n",
       "      <td>NaN</td>\n",
       "      <td>dialect</td>\n",
       "      <td>NaN</td>\n",
       "      <td>NaN</td>\n",
       "      <td>Aalawa</td>\n",
       "      <td>'Aalawa [aala1237]'</td>\n",
       "      <td>21802</td>\n",
       "      <td>safe</td>\n",
       "    </tr>\n",
       "    <tr>\n",
       "      <th>1</th>\n",
       "      <td>False</td>\n",
       "      <td>0</td>\n",
       "      <td>0</td>\n",
       "      <td>0</td>\n",
       "      <td>NaN</td>\n",
       "      <td>50.0</td>\n",
       "      <td>5525.0</td>\n",
       "      <td>NaN</td>\n",
       "      <td>aant1238</td>\n",
       "      <td>{}</td>\n",
       "      <td>NaN</td>\n",
       "      <td>dialect</td>\n",
       "      <td>NaN</td>\n",
       "      <td>NaN</td>\n",
       "      <td>Aantantara</td>\n",
       "      <td>'Aantantara [aant1238]'</td>\n",
       "      <td>8074</td>\n",
       "      <td>safe</td>\n",
       "    </tr>\n",
       "    <tr>\n",
       "      <th>2</th>\n",
       "      <td>False</td>\n",
       "      <td>0</td>\n",
       "      <td>0</td>\n",
       "      <td>2</td>\n",
       "      <td>NaN</td>\n",
       "      <td>202.0</td>\n",
       "      <td>1349.0</td>\n",
       "      <td>aiz</td>\n",
       "      <td>aari1238</td>\n",
       "      <td>{}</td>\n",
       "      <td>NaN</td>\n",
       "      <td>family</td>\n",
       "      <td>NaN</td>\n",
       "      <td>NaN</td>\n",
       "      <td>Aari-Gayil</td>\n",
       "      <td>('Aari [aari1239][aiw]-l-','Gayil [gayi1237][g...</td>\n",
       "      <td>2656</td>\n",
       "      <td>safe</td>\n",
       "    </tr>\n",
       "    <tr>\n",
       "      <th>3</th>\n",
       "      <td>False</td>\n",
       "      <td>0</td>\n",
       "      <td>0</td>\n",
       "      <td>0</td>\n",
       "      <td>NaN</td>\n",
       "      <td>202.0</td>\n",
       "      <td>2656.0</td>\n",
       "      <td>aiw</td>\n",
       "      <td>aari1239</td>\n",
       "      <td>{}</td>\n",
       "      <td>5.95034</td>\n",
       "      <td>language</td>\n",
       "      <td>36.5721</td>\n",
       "      <td>NaN</td>\n",
       "      <td>Aari</td>\n",
       "      <td>'Aari [aari1239][aiw]-l-'</td>\n",
       "      <td>4424</td>\n",
       "      <td>safe</td>\n",
       "    </tr>\n",
       "    <tr>\n",
       "      <th>4</th>\n",
       "      <td>True</td>\n",
       "      <td>0</td>\n",
       "      <td>0</td>\n",
       "      <td>0</td>\n",
       "      <td>NaN</td>\n",
       "      <td>120.0</td>\n",
       "      <td>120.0</td>\n",
       "      <td>aay</td>\n",
       "      <td>aari1240</td>\n",
       "      <td>{}</td>\n",
       "      <td>NaN</td>\n",
       "      <td>language</td>\n",
       "      <td>NaN</td>\n",
       "      <td>NaN</td>\n",
       "      <td>Aariya</td>\n",
       "      <td>'Aariya [aari1240][aay]-l-'</td>\n",
       "      <td>1134</td>\n",
       "      <td>safe</td>\n",
       "    </tr>\n",
       "    <tr>\n",
       "      <th>5</th>\n",
       "      <td>False</td>\n",
       "      <td>0</td>\n",
       "      <td>0</td>\n",
       "      <td>0</td>\n",
       "      <td>NaN</td>\n",
       "      <td>376.0</td>\n",
       "      <td>4943.0</td>\n",
       "      <td>aas</td>\n",
       "      <td>aasa1238</td>\n",
       "      <td>{}</td>\n",
       "      <td>-4.00679</td>\n",
       "      <td>language</td>\n",
       "      <td>36.8648</td>\n",
       "      <td>NaN</td>\n",
       "      <td>Aasax</td>\n",
       "      <td>'Aasax [aasa1238][aas]-l-'</td>\n",
       "      <td>7144</td>\n",
       "      <td>extinct</td>\n",
       "    </tr>\n",
       "    <tr>\n",
       "      <th>6</th>\n",
       "      <td>False</td>\n",
       "      <td>0</td>\n",
       "      <td>0</td>\n",
       "      <td>0</td>\n",
       "      <td>NaN</td>\n",
       "      <td>50.0</td>\n",
       "      <td>5523.0</td>\n",
       "      <td>NaN</td>\n",
       "      <td>aata1238</td>\n",
       "      <td>{}</td>\n",
       "      <td>NaN</td>\n",
       "      <td>dialect</td>\n",
       "      <td>NaN</td>\n",
       "      <td>NaN</td>\n",
       "      <td>Aatasaara</td>\n",
       "      <td>'Aatasaara [aata1238]'</td>\n",
       "      <td>8070</td>\n",
       "      <td>safe</td>\n",
       "    </tr>\n",
       "    <tr>\n",
       "      <th>7</th>\n",
       "      <td>False</td>\n",
       "      <td>0</td>\n",
       "      <td>0</td>\n",
       "      <td>0</td>\n",
       "      <td>NaN</td>\n",
       "      <td>151.0</td>\n",
       "      <td>9058.0</td>\n",
       "      <td>NaN</td>\n",
       "      <td>abaa1238</td>\n",
       "      <td>{}</td>\n",
       "      <td>NaN</td>\n",
       "      <td>dialect</td>\n",
       "      <td>NaN</td>\n",
       "      <td>NaN</td>\n",
       "      <td>Aba</td>\n",
       "      <td>'Aba [abaa1238]'</td>\n",
       "      <td>11889</td>\n",
       "      <td>safe</td>\n",
       "    </tr>\n",
       "    <tr>\n",
       "      <th>8</th>\n",
       "      <td>False</td>\n",
       "      <td>0</td>\n",
       "      <td>0</td>\n",
       "      <td>0</td>\n",
       "      <td>NaN</td>\n",
       "      <td>376.0</td>\n",
       "      <td>3203.0</td>\n",
       "      <td>NaN</td>\n",
       "      <td>abab1239</td>\n",
       "      <td>{}</td>\n",
       "      <td>NaN</td>\n",
       "      <td>dialect</td>\n",
       "      <td>NaN</td>\n",
       "      <td>NaN</td>\n",
       "      <td>Ababda</td>\n",
       "      <td>'Ababda [abab1239]'</td>\n",
       "      <td>4942</td>\n",
       "      <td>safe</td>\n",
       "    </tr>\n",
       "    <tr>\n",
       "      <th>9</th>\n",
       "      <td>False</td>\n",
       "      <td>29</td>\n",
       "      <td>12</td>\n",
       "      <td>21</td>\n",
       "      <td>NaN</td>\n",
       "      <td>10.0</td>\n",
       "      <td>7598.0</td>\n",
       "      <td>NaN</td>\n",
       "      <td>abab1240</td>\n",
       "      <td>{}</td>\n",
       "      <td>NaN</td>\n",
       "      <td>family</td>\n",
       "      <td>NaN</td>\n",
       "      <td>NaN</td>\n",
       "      <td>Ababuan</td>\n",
       "      <td>(('Bafwandaka [bafw1242]','Bakundumu [baku1261...</td>\n",
       "      <td>10186</td>\n",
       "      <td>safe</td>\n",
       "    </tr>\n",
       "  </tbody>\n",
       "</table>\n",
       "</div>"
      ],
      "text/plain": [
       "   bookkeeping  child_dialect_count  child_family_count  child_language_count  \\\n",
       "0        False                    0                   0                     0   \n",
       "1        False                    0                   0                     0   \n",
       "2        False                    0                   0                     2   \n",
       "3        False                    0                   0                     0   \n",
       "4         True                    0                   0                     0   \n",
       "5        False                    0                   0                     0   \n",
       "6        False                    0                   0                     0   \n",
       "7        False                    0                   0                     0   \n",
       "8        False                    0                   0                     0   \n",
       "9        False                   29                  12                    21   \n",
       "\n",
       "   description  family_pk  father_pk  hid        id jsondata  latitude  \\\n",
       "0          NaN       21.0    20815.0  NaN  aala1237       {}       NaN   \n",
       "1          NaN       50.0     5525.0  NaN  aant1238       {}       NaN   \n",
       "2          NaN      202.0     1349.0  aiz  aari1238       {}       NaN   \n",
       "3          NaN      202.0     2656.0  aiw  aari1239       {}   5.95034   \n",
       "4          NaN      120.0      120.0  aay  aari1240       {}       NaN   \n",
       "5          NaN      376.0     4943.0  aas  aasa1238       {}  -4.00679   \n",
       "6          NaN       50.0     5523.0  NaN  aata1238       {}       NaN   \n",
       "7          NaN      151.0     9058.0  NaN  abaa1238       {}       NaN   \n",
       "8          NaN      376.0     3203.0  NaN  abab1239       {}       NaN   \n",
       "9          NaN       10.0     7598.0  NaN  abab1240       {}       NaN   \n",
       "\n",
       "      level  longitude  markup_description        name  \\\n",
       "0   dialect        NaN                 NaN      Aalawa   \n",
       "1   dialect        NaN                 NaN  Aantantara   \n",
       "2    family        NaN                 NaN  Aari-Gayil   \n",
       "3  language    36.5721                 NaN        Aari   \n",
       "4  language        NaN                 NaN      Aariya   \n",
       "5  language    36.8648                 NaN       Aasax   \n",
       "6   dialect        NaN                 NaN   Aatasaara   \n",
       "7   dialect        NaN                 NaN         Aba   \n",
       "8   dialect        NaN                 NaN      Ababda   \n",
       "9    family        NaN                 NaN     Ababuan   \n",
       "\n",
       "                                              newick     pk   status  \n",
       "0                                'Aalawa [aala1237]'  21802     safe  \n",
       "1                            'Aantantara [aant1238]'   8074     safe  \n",
       "2  ('Aari [aari1239][aiw]-l-','Gayil [gayi1237][g...   2656     safe  \n",
       "3                          'Aari [aari1239][aiw]-l-'   4424     safe  \n",
       "4                        'Aariya [aari1240][aay]-l-'   1134     safe  \n",
       "5                         'Aasax [aasa1238][aas]-l-'   7144  extinct  \n",
       "6                             'Aatasaara [aata1238]'   8070     safe  \n",
       "7                                   'Aba [abaa1238]'  11889     safe  \n",
       "8                                'Ababda [abab1239]'   4942     safe  \n",
       "9  (('Bafwandaka [bafw1242]','Bakundumu [baku1261...  10186     safe  "
      ]
     },
     "execution_count": 52,
     "metadata": {},
     "output_type": "execute_result"
    }
   ],
   "source": [
    "df = pd.read_csv('languoid.csv')\n",
    "df.head(10)"
   ]
  },
  {
   "cell_type": "code",
   "execution_count": 3,
   "metadata": {},
   "outputs": [
    {
     "data": {
      "text/plain": [
       "(23243, 18)"
      ]
     },
     "execution_count": 3,
     "metadata": {},
     "output_type": "execute_result"
    }
   ],
   "source": [
    "#Print the number of rows and columns of the dataset\n",
    "df.shape"
   ]
  },
  {
   "cell_type": "code",
   "execution_count": 7,
   "metadata": {},
   "outputs": [
    {
     "data": {
      "text/plain": [
       "['bookkeeping',\n",
       " 'child_dialect_count',\n",
       " 'child_family_count',\n",
       " 'child_language_count',\n",
       " 'description',\n",
       " 'family_pk',\n",
       " 'father_pk',\n",
       " 'hid',\n",
       " 'id',\n",
       " 'jsondata',\n",
       " 'latitude',\n",
       " 'level',\n",
       " 'longitude',\n",
       " 'markup_description',\n",
       " 'name',\n",
       " 'newick',\n",
       " 'pk',\n",
       " 'status']"
      ]
     },
     "execution_count": 7,
     "metadata": {},
     "output_type": "execute_result"
    }
   ],
   "source": [
    "# List the names of the columns, to see which ones are relevant for our analysis\n",
    "list(df.columns)"
   ]
  },
  {
   "cell_type": "markdown",
   "metadata": {},
   "source": [
    "### Analysis of languages by level and status"
   ]
  },
  {
   "cell_type": "code",
   "execution_count": 10,
   "metadata": {},
   "outputs": [
    {
     "data": {
      "text/html": [
       "<div>\n",
       "<style scoped>\n",
       "    .dataframe tbody tr th:only-of-type {\n",
       "        vertical-align: middle;\n",
       "    }\n",
       "\n",
       "    .dataframe tbody tr th {\n",
       "        vertical-align: top;\n",
       "    }\n",
       "\n",
       "    .dataframe thead th {\n",
       "        text-align: right;\n",
       "    }\n",
       "</style>\n",
       "<table border=\"1\" class=\"dataframe\">\n",
       "  <thead>\n",
       "    <tr style=\"text-align: right;\">\n",
       "      <th></th>\n",
       "      <th>level</th>\n",
       "      <th>name</th>\n",
       "      <th>status</th>\n",
       "    </tr>\n",
       "  </thead>\n",
       "  <tbody>\n",
       "    <tr>\n",
       "      <th>23233</th>\n",
       "      <td>dialect</td>\n",
       "      <td>Zumu</td>\n",
       "      <td>safe</td>\n",
       "    </tr>\n",
       "    <tr>\n",
       "      <th>23234</th>\n",
       "      <td>language</td>\n",
       "      <td>Zuni</td>\n",
       "      <td>vulnerable</td>\n",
       "    </tr>\n",
       "    <tr>\n",
       "      <th>23235</th>\n",
       "      <td>language</td>\n",
       "      <td>Zuojiang Zhuang</td>\n",
       "      <td>safe</td>\n",
       "    </tr>\n",
       "    <tr>\n",
       "      <th>23236</th>\n",
       "      <td>dialect</td>\n",
       "      <td>Zura</td>\n",
       "      <td>safe</td>\n",
       "    </tr>\n",
       "    <tr>\n",
       "      <th>23237</th>\n",
       "      <td>dialect</td>\n",
       "      <td>Zurrieq</td>\n",
       "      <td>safe</td>\n",
       "    </tr>\n",
       "    <tr>\n",
       "      <th>23238</th>\n",
       "      <td>dialect</td>\n",
       "      <td>Zutiua</td>\n",
       "      <td>safe</td>\n",
       "    </tr>\n",
       "    <tr>\n",
       "      <th>23239</th>\n",
       "      <td>dialect</td>\n",
       "      <td>Zuwadza</td>\n",
       "      <td>safe</td>\n",
       "    </tr>\n",
       "    <tr>\n",
       "      <th>23240</th>\n",
       "      <td>dialect</td>\n",
       "      <td>Zwall</td>\n",
       "      <td>safe</td>\n",
       "    </tr>\n",
       "    <tr>\n",
       "      <th>23241</th>\n",
       "      <td>language</td>\n",
       "      <td>Zyphe</td>\n",
       "      <td>safe</td>\n",
       "    </tr>\n",
       "    <tr>\n",
       "      <th>23242</th>\n",
       "      <td>dialect</td>\n",
       "      <td>Zyuzdin</td>\n",
       "      <td>safe</td>\n",
       "    </tr>\n",
       "  </tbody>\n",
       "</table>\n",
       "</div>"
      ],
      "text/plain": [
       "          level             name      status\n",
       "23233   dialect             Zumu        safe\n",
       "23234  language             Zuni  vulnerable\n",
       "23235  language  Zuojiang Zhuang        safe\n",
       "23236   dialect             Zura        safe\n",
       "23237   dialect          Zurrieq        safe\n",
       "23238   dialect           Zutiua        safe\n",
       "23239   dialect          Zuwadza        safe\n",
       "23240   dialect            Zwall        safe\n",
       "23241  language            Zyphe        safe\n",
       "23242   dialect          Zyuzdin        safe"
      ]
     },
     "execution_count": 10,
     "metadata": {},
     "output_type": "execute_result"
    }
   ],
   "source": [
    "lns_df = df[['level', 'name', 'status']]\n",
    "lns_df.tail(10)"
   ]
  },
  {
   "cell_type": "code",
   "execution_count": 15,
   "metadata": {},
   "outputs": [
    {
     "data": {
      "text/plain": [
       "array(['dialect', 'family', 'language'], dtype=object)"
      ]
     },
     "execution_count": 15,
     "metadata": {},
     "output_type": "execute_result"
    }
   ],
   "source": [
    "lns_df['level'].unique()"
   ]
  },
  {
   "cell_type": "code",
   "execution_count": 21,
   "metadata": {},
   "outputs": [
    {
     "data": {
      "text/plain": [
       "array(['safe', 'extinct', 'critically endangered',\n",
       "       'definitely endangered', 'vulnerable', 'severely endangered'],\n",
       "      dtype=object)"
      ]
     },
     "execution_count": 21,
     "metadata": {},
     "output_type": "execute_result"
    }
   ],
   "source": [
    "lns_df['status'].unique()"
   ]
  },
  {
   "cell_type": "code",
   "execution_count": 22,
   "metadata": {},
   "outputs": [
    {
     "data": {
      "text/plain": [
       "language     8444\n",
       "family       4268\n",
       "dialect     10531\n",
       "dtype: int64"
      ]
     },
     "execution_count": 22,
     "metadata": {},
     "output_type": "execute_result"
    }
   ],
   "source": [
    "#Find the total number of language families, languages, and dialects\n",
    "lang_sum = pd.value_counts(df['level'].values, sort=False)\n",
    "lang_sum"
   ]
  },
  {
   "cell_type": "code",
   "execution_count": 24,
   "metadata": {},
   "outputs": [
    {
     "data": {
      "text/plain": [
       "<matplotlib.axes._subplots.AxesSubplot at 0x7f7fb9a37dd8>"
      ]
     },
     "execution_count": 24,
     "metadata": {},
     "output_type": "execute_result"
    },
    {
     "data": {
      "image/png": "[encoded data removed]",
      "text/plain": [
       "<Figure size 432x288 with 1 Axes>"
      ]
     },
     "metadata": {},
     "output_type": "display_data"
    }
   ],
   "source": [
    "# Plot the language types\n",
    "import matplotlib.pyplot as plt\n",
    "%matplotlib inline  \n",
    "lang_sum.plot(kind='bar')"
   ]
  },
  {
   "cell_type": "code",
   "execution_count": 25,
   "metadata": {},
   "outputs": [
    {
     "data": {
      "text/plain": [
       "<matplotlib.axes._subplots.AxesSubplot at 0x7f7fb9a1be80>"
      ]
     },
     "execution_count": 25,
     "metadata": {},
     "output_type": "execute_result"
    },
    {
     "data": {
      "image/png": "[encoded data removed]",
      "text/plain": [
       "<Figure size 432x288 with 1 Axes>"
      ]
     },
     "metadata": {},
     "output_type": "display_data"
    }
   ],
   "source": [
    "import matplotlib.pyplot as plt\n",
    "%matplotlib inline  \n",
    "lang_sum.plot(kind='pie')"
   ]
  },
  {
   "cell_type": "code",
   "execution_count": 26,
   "metadata": {},
   "outputs": [
    {
     "data": {
      "text/plain": [
       "safe                     20112\n",
       "extinct                   1104\n",
       "definitely endangered      585\n",
       "vulnerable                 582\n",
       "severely endangered        434\n",
       "critically endangered      426\n",
       "Name: status, dtype: int64"
      ]
     },
     "execution_count": 26,
     "metadata": {},
     "output_type": "execute_result"
    }
   ],
   "source": [
    "#Find the total number of languages in each status\n",
    "status_sum = pd.value_counts(lns_df['status'], sort=True)\n",
    "status_sum"
   ]
  },
  {
   "cell_type": "code",
   "execution_count": 32,
   "metadata": {},
   "outputs": [
    {
     "data": {
      "text/plain": [
       "<matplotlib.axes._subplots.AxesSubplot at 0x7f7fb98c96a0>"
      ]
     },
     "execution_count": 32,
     "metadata": {},
     "output_type": "execute_result"
    },
    {
     "data": {
      "image/png": "[encoded data removed]",
      "text/plain": [
       "<Figure size 432x288 with 1 Axes>"
      ]
     },
     "metadata": {},
     "output_type": "display_data"
    }
   ],
   "source": [
    "status_sum.plot(kind='pie')"
   ]
  },
  {
   "cell_type": "code",
   "execution_count": 67,
   "metadata": {},
   "outputs": [
    {
     "data": {
      "text/html": [
       "<div>\n",
       "<style scoped>\n",
       "    .dataframe tbody tr th:only-of-type {\n",
       "        vertical-align: middle;\n",
       "    }\n",
       "\n",
       "    .dataframe tbody tr th {\n",
       "        vertical-align: top;\n",
       "    }\n",
       "\n",
       "    .dataframe thead th {\n",
       "        text-align: right;\n",
       "    }\n",
       "</style>\n",
       "<table border=\"1\" class=\"dataframe\">\n",
       "  <thead>\n",
       "    <tr style=\"text-align: right;\">\n",
       "      <th>status</th>\n",
       "      <th>critically endangered</th>\n",
       "      <th>definitely endangered</th>\n",
       "      <th>extinct</th>\n",
       "      <th>safe</th>\n",
       "      <th>severely endangered</th>\n",
       "      <th>vulnerable</th>\n",
       "    </tr>\n",
       "    <tr>\n",
       "      <th>level</th>\n",
       "      <th></th>\n",
       "      <th></th>\n",
       "      <th></th>\n",
       "      <th></th>\n",
       "      <th></th>\n",
       "      <th></th>\n",
       "    </tr>\n",
       "  </thead>\n",
       "  <tbody>\n",
       "    <tr>\n",
       "      <th>dialect</th>\n",
       "      <td>3</td>\n",
       "      <td>4</td>\n",
       "      <td>42</td>\n",
       "      <td>10479</td>\n",
       "      <td>1</td>\n",
       "      <td>2</td>\n",
       "    </tr>\n",
       "    <tr>\n",
       "      <th>family</th>\n",
       "      <td>0</td>\n",
       "      <td>0</td>\n",
       "      <td>3</td>\n",
       "      <td>4265</td>\n",
       "      <td>0</td>\n",
       "      <td>0</td>\n",
       "    </tr>\n",
       "    <tr>\n",
       "      <th>language</th>\n",
       "      <td>423</td>\n",
       "      <td>581</td>\n",
       "      <td>1059</td>\n",
       "      <td>5368</td>\n",
       "      <td>433</td>\n",
       "      <td>580</td>\n",
       "    </tr>\n",
       "  </tbody>\n",
       "</table>\n",
       "</div>"
      ],
      "text/plain": [
       "status    critically endangered  definitely endangered  extinct   safe  \\\n",
       "level                                                                    \n",
       "dialect                       3                      4       42  10479   \n",
       "family                        0                      0        3   4265   \n",
       "language                    423                    581     1059   5368   \n",
       "\n",
       "status    severely endangered  vulnerable  \n",
       "level                                      \n",
       "dialect                     1           2  \n",
       "family                      0           0  \n",
       "language                  433         580  "
      ]
     },
     "execution_count": 67,
     "metadata": {},
     "output_type": "execute_result"
    }
   ],
   "source": [
    "#Print the summary of language level by status\n",
    "level_status = pd.crosstab(df.level, df.status)\n",
    "level_status"
   ]
  },
  {
   "cell_type": "code",
   "execution_count": 68,
   "metadata": {},
   "outputs": [
    {
     "data": {
      "text/plain": [
       "<matplotlib.axes._subplots.AxesSubplot at 0x7f7fac406518>"
      ]
     },
     "execution_count": 68,
     "metadata": {},
     "output_type": "execute_result"
    },
    {
     "data": {
      "image/png": "[encoded data removed]",
      "text/plain": [
       "<Figure size 432x288 with 1 Axes>"
      ]
     },
     "metadata": {},
     "output_type": "display_data"
    }
   ],
   "source": [
    "#Plot summary of languages by level and status\n",
    "import matplotlib.pyplot as plt\n",
    "level_status.plot(kind='bar')"
   ]
  },
  {
   "cell_type": "code",
   "execution_count": 50,
   "metadata": {},
   "outputs": [
    {
     "data": {
      "text/plain": [
       "<matplotlib.axes._subplots.AxesSubplot at 0x7f7fada634e0>"
      ]
     },
     "execution_count": 50,
     "metadata": {},
     "output_type": "execute_result"
    },
    {
     "data": {
      "image/png": "[encoded data removed]",
      "text/plain": [
       "<Figure size 432x288 with 1 Axes>"
      ]
     },
     "metadata": {},
     "output_type": "display_data"
    }
   ],
   "source": [
    "summary.plot(kind='bar', stacked=True)"
   ]
  },
  {
   "cell_type": "markdown",
   "metadata": {},
   "source": [
    "### Extinct language families"
   ]
  },
  {
   "cell_type": "code",
   "execution_count": 77,
   "metadata": {},
   "outputs": [
    {
     "data": {
      "text/html": [
       "<div>\n",
       "<style scoped>\n",
       "    .dataframe tbody tr th:only-of-type {\n",
       "        vertical-align: middle;\n",
       "    }\n",
       "\n",
       "    .dataframe tbody tr th {\n",
       "        vertical-align: top;\n",
       "    }\n",
       "\n",
       "    .dataframe thead th {\n",
       "        text-align: right;\n",
       "    }\n",
       "</style>\n",
       "<table border=\"1\" class=\"dataframe\">\n",
       "  <thead>\n",
       "    <tr style=\"text-align: right;\">\n",
       "      <th></th>\n",
       "      <th>name</th>\n",
       "    </tr>\n",
       "  </thead>\n",
       "  <tbody>\n",
       "    <tr>\n",
       "      <th>3694</th>\n",
       "      <td>Chimakuan</td>\n",
       "    </tr>\n",
       "    <tr>\n",
       "      <th>4577</th>\n",
       "      <td>Djiwarli-Thiin</td>\n",
       "    </tr>\n",
       "    <tr>\n",
       "      <th>5972</th>\n",
       "      <td>Garrwan</td>\n",
       "    </tr>\n",
       "  </tbody>\n",
       "</table>\n",
       "</div>"
      ],
      "text/plain": [
       "                name\n",
       "3694       Chimakuan\n",
       "4577  Djiwarli-Thiin\n",
       "5972         Garrwan"
      ]
     },
     "execution_count": 77,
     "metadata": {},
     "output_type": "execute_result"
    }
   ],
   "source": [
    "ext_fam = df[(df.level == 'family') & (df.status == 'extinct')]\n",
    "ext_fam_names = ext_fam[['name']]\n",
    "ext_fam_names"
   ]
  },
  {
   "cell_type": "markdown",
   "metadata": {},
   "source": [
    "### Endangered dialects"
   ]
  },
  {
   "cell_type": "code",
   "execution_count": 88,
   "metadata": {},
   "outputs": [
    {
     "data": {
      "text/html": [
       "<div>\n",
       "<style scoped>\n",
       "    .dataframe tbody tr th:only-of-type {\n",
       "        vertical-align: middle;\n",
       "    }\n",
       "\n",
       "    .dataframe tbody tr th {\n",
       "        vertical-align: top;\n",
       "    }\n",
       "\n",
       "    .dataframe thead th {\n",
       "        text-align: right;\n",
       "    }\n",
       "</style>\n",
       "<table border=\"1\" class=\"dataframe\">\n",
       "  <thead>\n",
       "    <tr style=\"text-align: right;\">\n",
       "      <th></th>\n",
       "      <th>name</th>\n",
       "    </tr>\n",
       "  </thead>\n",
       "  <tbody>\n",
       "    <tr>\n",
       "      <th>9687</th>\n",
       "      <td>Krahô</td>\n",
       "    </tr>\n",
       "    <tr>\n",
       "      <th>9697</th>\n",
       "      <td>Krikati-Timbira</td>\n",
       "    </tr>\n",
       "  </tbody>\n",
       "</table>\n",
       "</div>"
      ],
      "text/plain": [
       "                 name\n",
       "9687            Krahô\n",
       "9697  Krikati-Timbira"
      ]
     },
     "execution_count": 88,
     "metadata": {},
     "output_type": "execute_result"
    }
   ],
   "source": [
    "vul_dialects = df[(df.level == 'dialect') & (df.status == 'vulnerable')]\n",
    "vul_dialects_names = vul_dialects[['name']]\n",
    "vul_dialects_names"
   ]
  },
  {
   "cell_type": "code",
   "execution_count": 89,
   "metadata": {},
   "outputs": [
    {
     "data": {
      "text/html": [
       "<div>\n",
       "<style scoped>\n",
       "    .dataframe tbody tr th:only-of-type {\n",
       "        vertical-align: middle;\n",
       "    }\n",
       "\n",
       "    .dataframe tbody tr th {\n",
       "        vertical-align: top;\n",
       "    }\n",
       "\n",
       "    .dataframe thead th {\n",
       "        text-align: right;\n",
       "    }\n",
       "</style>\n",
       "<table border=\"1\" class=\"dataframe\">\n",
       "  <thead>\n",
       "    <tr style=\"text-align: right;\">\n",
       "      <th></th>\n",
       "      <th>name</th>\n",
       "    </tr>\n",
       "  </thead>\n",
       "  <tbody>\n",
       "    <tr>\n",
       "      <th>2550</th>\n",
       "      <td>Bom</td>\n",
       "    </tr>\n",
       "  </tbody>\n",
       "</table>\n",
       "</div>"
      ],
      "text/plain": [
       "     name\n",
       "2550  Bom"
      ]
     },
     "execution_count": 89,
     "metadata": {},
     "output_type": "execute_result"
    }
   ],
   "source": [
    "sev_dialects = df[(df.level == 'dialect') & (df.status == 'severely endangered')]\n",
    "sev_dialects_names = sev_dialects[['name']]\n",
    "sev_dialects_names"
   ]
  },
  {
   "cell_type": "code",
   "execution_count": 90,
   "metadata": {},
   "outputs": [
    {
     "data": {
      "text/html": [
       "<div>\n",
       "<style scoped>\n",
       "    .dataframe tbody tr th:only-of-type {\n",
       "        vertical-align: middle;\n",
       "    }\n",
       "\n",
       "    .dataframe tbody tr th {\n",
       "        vertical-align: top;\n",
       "    }\n",
       "\n",
       "    .dataframe thead th {\n",
       "        text-align: right;\n",
       "    }\n",
       "</style>\n",
       "<table border=\"1\" class=\"dataframe\">\n",
       "  <thead>\n",
       "    <tr style=\"text-align: right;\">\n",
       "      <th></th>\n",
       "      <th>name</th>\n",
       "    </tr>\n",
       "  </thead>\n",
       "  <tbody>\n",
       "    <tr>\n",
       "      <th>6453</th>\n",
       "      <td>Kinikinao</td>\n",
       "    </tr>\n",
       "    <tr>\n",
       "      <th>9698</th>\n",
       "      <td>Krim</td>\n",
       "    </tr>\n",
       "    <tr>\n",
       "      <th>22502</th>\n",
       "      <td>Xiandao</td>\n",
       "    </tr>\n",
       "  </tbody>\n",
       "</table>\n",
       "</div>"
      ],
      "text/plain": [
       "            name\n",
       "6453   Kinikinao\n",
       "9698        Krim\n",
       "22502    Xiandao"
      ]
     },
     "execution_count": 90,
     "metadata": {},
     "output_type": "execute_result"
    }
   ],
   "source": [
    "crit_dialects = df[(df.level == 'dialect') & (df.status == 'critically endangered')]\n",
    "crit_dialects_names = crit_dialects[['name']]\n",
    "crit_dialects_names"
   ]
  },
  {
   "cell_type": "code",
   "execution_count": 91,
   "metadata": {},
   "outputs": [
    {
     "data": {
      "text/html": [
       "<div>\n",
       "<style scoped>\n",
       "    .dataframe tbody tr th:only-of-type {\n",
       "        vertical-align: middle;\n",
       "    }\n",
       "\n",
       "    .dataframe tbody tr th {\n",
       "        vertical-align: top;\n",
       "    }\n",
       "\n",
       "    .dataframe thead th {\n",
       "        text-align: right;\n",
       "    }\n",
       "</style>\n",
       "<table border=\"1\" class=\"dataframe\">\n",
       "  <thead>\n",
       "    <tr style=\"text-align: right;\">\n",
       "      <th></th>\n",
       "      <th>name</th>\n",
       "    </tr>\n",
       "  </thead>\n",
       "  <tbody>\n",
       "    <tr>\n",
       "      <th>4924</th>\n",
       "      <td>Eastern Gurung</td>\n",
       "    </tr>\n",
       "    <tr>\n",
       "      <th>12235</th>\n",
       "      <td>Mea</td>\n",
       "    </tr>\n",
       "    <tr>\n",
       "      <th>17011</th>\n",
       "      <td>Repanbitip</td>\n",
       "    </tr>\n",
       "    <tr>\n",
       "      <th>21958</th>\n",
       "      <td>Western Gurung</td>\n",
       "    </tr>\n",
       "  </tbody>\n",
       "</table>\n",
       "</div>"
      ],
      "text/plain": [
       "                 name\n",
       "4924   Eastern Gurung\n",
       "12235             Mea\n",
       "17011      Repanbitip\n",
       "21958  Western Gurung"
      ]
     },
     "execution_count": 91,
     "metadata": {},
     "output_type": "execute_result"
    }
   ],
   "source": [
    "def_dialects = df[(df.level == 'dialect') & (df.status == 'definitely endangered')]\n",
    "def_dialects_names = def_dialects[['name']]\n",
    "def_dialects_names"
   ]
  },
  {
   "cell_type": "markdown",
   "metadata": {},
   "source": [
    "### Geographical analysis"
   ]
  },
  {
   "cell_type": "code",
   "execution_count": 66,
   "metadata": {},
   "outputs": [
    {
     "data": {
      "text/html": [
       "<div>\n",
       "<style scoped>\n",
       "    .dataframe tbody tr th:only-of-type {\n",
       "        vertical-align: middle;\n",
       "    }\n",
       "\n",
       "    .dataframe tbody tr th {\n",
       "        vertical-align: top;\n",
       "    }\n",
       "\n",
       "    .dataframe thead th {\n",
       "        text-align: right;\n",
       "    }\n",
       "</style>\n",
       "<table border=\"1\" class=\"dataframe\">\n",
       "  <thead>\n",
       "    <tr style=\"text-align: right;\">\n",
       "      <th></th>\n",
       "      <th>name</th>\n",
       "      <th>level</th>\n",
       "      <th>macroarea</th>\n",
       "    </tr>\n",
       "  </thead>\n",
       "  <tbody>\n",
       "    <tr>\n",
       "      <th>0</th>\n",
       "      <td>Aalawa</td>\n",
       "      <td>dialect</td>\n",
       "      <td>Papunesia</td>\n",
       "    </tr>\n",
       "    <tr>\n",
       "      <th>1</th>\n",
       "      <td>Aantantara</td>\n",
       "      <td>dialect</td>\n",
       "      <td>Papunesia</td>\n",
       "    </tr>\n",
       "    <tr>\n",
       "      <th>2</th>\n",
       "      <td>Aari</td>\n",
       "      <td>language</td>\n",
       "      <td>Africa</td>\n",
       "    </tr>\n",
       "    <tr>\n",
       "      <th>3</th>\n",
       "      <td>Aariya</td>\n",
       "      <td>language</td>\n",
       "      <td>Eurasia</td>\n",
       "    </tr>\n",
       "    <tr>\n",
       "      <th>4</th>\n",
       "      <td>Aasax</td>\n",
       "      <td>language</td>\n",
       "      <td>Africa</td>\n",
       "    </tr>\n",
       "  </tbody>\n",
       "</table>\n",
       "</div>"
      ],
      "text/plain": [
       "         name     level  macroarea\n",
       "0      Aalawa   dialect  Papunesia\n",
       "1  Aantantara   dialect  Papunesia\n",
       "2        Aari  language     Africa\n",
       "3      Aariya  language    Eurasia\n",
       "4       Aasax  language     Africa"
      ]
     },
     "execution_count": 66,
     "metadata": {},
     "output_type": "execute_result"
    }
   ],
   "source": [
    "geo_df = pd.read_csv('languages-and-dialects-geo.csv')\n",
    "geo_nlm = geo_df[['name', 'level', 'macroarea']]\n",
    "geo_nlm.head()"
   ]
  },
  {
   "cell_type": "code",
   "execution_count": 59,
   "metadata": {},
   "outputs": [
    {
     "data": {
      "text/html": [
       "<div>\n",
       "<style scoped>\n",
       "    .dataframe tbody tr th:only-of-type {\n",
       "        vertical-align: middle;\n",
       "    }\n",
       "\n",
       "    .dataframe tbody tr th {\n",
       "        vertical-align: top;\n",
       "    }\n",
       "\n",
       "    .dataframe thead th {\n",
       "        text-align: right;\n",
       "    }\n",
       "</style>\n",
       "<table border=\"1\" class=\"dataframe\">\n",
       "  <thead>\n",
       "    <tr style=\"text-align: right;\">\n",
       "      <th>macroarea</th>\n",
       "      <th>Africa</th>\n",
       "      <th>Australia</th>\n",
       "      <th>Eurasia</th>\n",
       "      <th>North America</th>\n",
       "      <th>Papunesia</th>\n",
       "      <th>South America</th>\n",
       "    </tr>\n",
       "    <tr>\n",
       "      <th>level</th>\n",
       "      <th></th>\n",
       "      <th></th>\n",
       "      <th></th>\n",
       "      <th></th>\n",
       "      <th></th>\n",
       "      <th></th>\n",
       "    </tr>\n",
       "  </thead>\n",
       "  <tbody>\n",
       "    <tr>\n",
       "      <th>dialect</th>\n",
       "      <td>3616</td>\n",
       "      <td>174</td>\n",
       "      <td>3065</td>\n",
       "      <td>261</td>\n",
       "      <td>2645</td>\n",
       "      <td>392</td>\n",
       "    </tr>\n",
       "    <tr>\n",
       "      <th>language</th>\n",
       "      <td>2328</td>\n",
       "      <td>376</td>\n",
       "      <td>1949</td>\n",
       "      <td>784</td>\n",
       "      <td>2196</td>\n",
       "      <td>704</td>\n",
       "    </tr>\n",
       "  </tbody>\n",
       "</table>\n",
       "</div>"
      ],
      "text/plain": [
       "macroarea  Africa  Australia  Eurasia  North America  Papunesia  South America\n",
       "level                                                                         \n",
       "dialect      3616        174     3065            261       2645            392\n",
       "language     2328        376     1949            784       2196            704"
      ]
     },
     "execution_count": 59,
     "metadata": {},
     "output_type": "execute_result"
    }
   ],
   "source": [
    "geo_sum = pd.crosstab(geo.level, geo.macroarea)\n",
    "geo_sum"
   ]
  },
  {
   "cell_type": "code",
   "execution_count": 63,
   "metadata": {},
   "outputs": [
    {
     "data": {
      "text/plain": [
       "<matplotlib.axes._subplots.AxesSubplot at 0x2bf8e4a70b8>"
      ]
     },
     "execution_count": 63,
     "metadata": {},
     "output_type": "execute_result"
    },
    {
     "data": {
      "image/png": "[encoded data removed]",
      "text/plain": [
       "<Figure size 432x288 with 1 Axes>"
      ]
     },
     "metadata": {},
     "output_type": "display_data"
    }
   ],
   "source": [
    "geo_sum.plot(kind='bar')"
   ]
  },
  {
   "cell_type": "code",
   "execution_count": 64,
   "metadata": {},
   "outputs": [
    {
     "data": {
      "text/plain": [
       "<matplotlib.axes._subplots.AxesSubplot at 0x2bf8e516c18>"
      ]
     },
     "execution_count": 64,
     "metadata": {},
     "output_type": "execute_result"
    },
    {
     "data": {
      "image/png": "[encoded data removed]",
      "text/plain": [
       "<Figure size 432x288 with 1 Axes>"
      ]
     },
     "metadata": {},
     "output_type": "display_data"
    }
   ],
   "source": [
    "geo_sum.plot(kind='bar', stacked=True)"
   ]
  }
 ],
 "metadata": {
  "kernelspec": {
   "display_name": "Python 3",
   "language": "python",
   "name": "python3"
  },
  "language_info": {
   "codemirror_mode": {
    "name": "ipython",
    "version": 3
   },
   "file_extension": ".py",
   "mimetype": "text/x-python",
   "name": "python",
   "nbconvert_exporter": "python",
   "pygments_lexer": "ipython3",
   "version": "3.6.10"
  }
 },
 "nbformat": 4,
 "nbformat_minor": 2
}